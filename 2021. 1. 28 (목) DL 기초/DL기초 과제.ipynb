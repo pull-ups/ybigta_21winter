{
 "cells": [
  {
   "cell_type": "markdown",
   "metadata": {
    "id": "mlQz3vXAU2QE"
   },
   "source": [
    "# 과제1: tensorflow를 이용한 NN 밑바닥부터 구현\n",
    "input feature가 100개이고,  \n",
    "hidden layer가 2개이고 neuron이 각각 50,10개이고,  \n",
    "output이 5개인 NN를 구현해 보자  \n",
    "* hidden layer는 relu를 activation function으로, output layer는 softmax를 activation function으로 사용"
   ]
  },
  {
   "cell_type": "code",
   "execution_count": 134,
   "metadata": {
    "ExecuteTime": {
     "end_time": "2021-01-29T17:35:54.846819Z",
     "start_time": "2021-01-29T17:35:54.842833Z"
    },
    "id": "CeUa71VCU2QL"
   },
   "outputs": [],
   "source": [
    "import tensorflow as tf\n",
    "import numpy as np"
   ]
  },
  {
   "cell_type": "code",
   "execution_count": 135,
   "metadata": {
    "ExecuteTime": {
     "end_time": "2021-01-29T17:35:54.862780Z",
     "start_time": "2021-01-29T17:35:54.853803Z"
    },
    "id": "Kfo6oOn8U2QM"
   },
   "outputs": [],
   "source": [
    "n_x = 100\n",
    "n_h1 = 50\n",
    "n_h2 = 10\n",
    "n_y = 5"
   ]
  },
  {
   "cell_type": "code",
   "execution_count": 136,
   "metadata": {
    "ExecuteTime": {
     "end_time": "2021-01-29T17:35:54.892696Z",
     "start_time": "2021-01-29T17:35:54.866770Z"
    },
    "id": "WeNzQkQ-U2QM"
   },
   "outputs": [
    {
     "name": "stdout",
     "output_type": "stream",
     "text": [
      "[[-0.14894207  0.70819837 -1.0280124  ... -0.58008444 -0.66378003\n",
      "   1.4455067 ]\n",
      " [ 0.26702562  1.8195413  -0.4902526  ... -0.4775329   0.57383436\n",
      "   0.16611022]\n",
      " [-0.26046693 -0.1963133   0.7075181  ...  0.7984418  -0.2333922\n",
      "   2.0305521 ]\n",
      " ...\n",
      " [ 1.02368     0.13778742  1.0478146  ... -0.6469656   0.9798138\n",
      "   0.34179986]\n",
      " [ 1.0370979   0.09489009  2.1430323  ... -0.35429305 -0.67017996\n",
      "   0.826669  ]\n",
      " [-0.17257391  0.00557853  0.8481253  ...  0.6333207   0.8689979\n",
      "  -0.78844786]]\n",
      "[[0. 0. 0. 0. 1.]\n",
      " [0. 0. 1. 0. 0.]\n",
      " [0. 1. 0. 0. 0.]\n",
      " ...\n",
      " [1. 0. 0. 0. 0.]\n",
      " [0. 1. 0. 0. 0.]\n",
      " [0. 0. 0. 1. 0.]]\n"
     ]
    }
   ],
   "source": [
    "# Simulate train set\n",
    "m = 500\n",
    "\n",
    "x_train=np.random.randn(m,n_x).astype(np.float32)\n",
    "y_train=np.zeros((m,n_y)).astype(np.float32)\n",
    "y_train[np.arange(m),np.random.randint(n_y,size=m)]=1\n",
    "\n",
    "print(x_train)\n",
    "print(y_train)\n"
   ]
  },
  {
   "cell_type": "markdown",
   "metadata": {
    "id": "XO5ck0OrU2QN"
   },
   "source": [
    "* Initialization of weights"
   ]
  },
  {
   "cell_type": "code",
   "execution_count": 137,
   "metadata": {
    "ExecuteTime": {
     "end_time": "2021-01-29T17:35:55.013377Z",
     "start_time": "2021-01-29T17:35:54.998415Z"
    },
    "id": "t5gEprk8U2QN"
   },
   "outputs": [],
   "source": [
    "w1=tf.Variable(1e-3*np.random.randn(n_x,n_h1).astype(np.float32),name=\"w1\")\n",
    "## 코드를 작성해 보세요 ##\n",
    "w2=tf.Variable(1e-3*np.random.randn(n_h1,n_h2).astype(np.float32),name=\"w2\")\n",
    "w3=tf.Variable(1e-3*np.random.randn(n_h2,n_y).astype(np.float32),name=\"w3\")\n"
   ]
  },
  {
   "cell_type": "markdown",
   "metadata": {
    "id": "J0hTdH3IU2QO"
   },
   "source": [
    "* forward propagation을 통해 prediction 값을 구하고, loss를 구하는 function을 만들어 봅시다"
   ]
  },
  {
   "cell_type": "code",
   "execution_count": 138,
   "metadata": {
    "ExecuteTime": {
     "end_time": "2021-01-29T17:35:55.148051Z",
     "start_time": "2021-01-29T17:35:55.132089Z"
    },
    "id": "mRZYg6SWU2QO"
   },
   "outputs": [],
   "source": [
    "def forward(x):\n",
    "    z1=tf.matmul(x,w1)\n",
    "    a1=tf.nn.relu(z1)\n",
    "    ## 코드를 작성해 보세요 ##\n",
    "    z2=tf.matmul(a1,w2)\n",
    "    a2=tf.nn.relu(z2)\n",
    "    z3=tf.matmul(a2,w3)\n",
    "    predictions = tf.nn.softmax(z3)\n",
    "    \n",
    "    return predictions\n",
    "\n",
    "def loss_fn(predictions, y):\n",
    "    loss= -tf.reduce_sum(y*tf.math.log(predictions))\n",
    "    return loss    "
   ]
  },
  {
   "cell_type": "markdown",
   "metadata": {
    "id": "aiGxU4zYU2QP"
   },
   "source": [
    "* backpropagation & update parameters"
   ]
  },
  {
   "cell_type": "code",
   "execution_count": 139,
   "metadata": {
    "ExecuteTime": {
     "end_time": "2021-01-29T17:35:55.328568Z",
     "start_time": "2021-01-29T17:35:55.303599Z"
    },
    "id": "Br-xEdiDU2QP"
   },
   "outputs": [],
   "source": [
    "learning_rate=1e-2\n",
    "optimizer=tf.keras.optimizers.Adam(learning_rate)\n",
    "\n",
    "def train_step(x, y):\n",
    "    with tf.GradientTape() as tape:\n",
    "        predictions = forward(x)\n",
    "        loss = loss_fn(predictions, y)\n",
    "    \n",
    "    ## 코드를 작성해 보세요 ## (hint: tape.gradient를 구글링 해보세요)\n",
    "    gradient = tape.gradient(loss, [w1, w2])\n",
    "    # optimizer와 위에서 구한 경사도를 이용해 가중치들을 업데이트 합니다.\n",
    "    optimizer.apply_gradients(zip(gradient, [w1, w2]))\n",
    "    \n",
    "    return loss, w1, w2\n"
   ]
  },
  {
   "cell_type": "markdown",
   "metadata": {
    "id": "OU1oHsFoU2QP"
   },
   "source": [
    "* 간단하게 train loop를 작성해 loss가 줄어나가는지 확인해 봅시다."
   ]
  },
  {
   "cell_type": "code",
   "execution_count": 140,
   "metadata": {
    "ExecuteTime": {
     "end_time": "2021-01-29T17:35:55.568889Z",
     "start_time": "2021-01-29T17:35:55.437243Z"
    },
    "id": "YIHNHAjPU2QP"
   },
   "outputs": [
    {
     "name": "stdout",
     "output_type": "stream",
     "text": [
      "[804.7173, 804.6793, 804.5732, 804.3762, 804.07166, 803.6448, 803.0827, 802.3719, 801.501, 800.45557]\n"
     ]
    }
   ],
   "source": [
    "loss_list = []\n",
    "\n",
    "for step in range(10): \n",
    "    train_step(x_train, y_train)\n",
    "    loss, w1, w2 = train_step(x_train, y_train)\n",
    "    loss_list.append(loss.numpy())\n",
    "    \n",
    "print(loss_list)"
   ]
  },
  {
   "cell_type": "markdown",
   "metadata": {
    "id": "MN_pVd5cU2QQ"
   },
   "source": [
    "# 과제2: MNIST 데이터를 나만의 NN model로 95 % 이상의 성능으로 training 시켜보자!\n",
    "\n",
    "\n",
    "## Loading MNIST training data"
   ]
  },
  {
   "cell_type": "code",
   "execution_count": 141,
   "metadata": {
    "ExecuteTime": {
     "end_time": "2021-01-29T17:35:56.313895Z",
     "start_time": "2021-01-29T17:35:55.642693Z"
    },
    "id": "hwZNV5MFU2QQ"
   },
   "outputs": [],
   "source": [
    "from tensorflow import keras\n",
    "\n",
    "# import matplotlib\n",
    "import matplotlib.pyplot as plt\n",
    "%matplotlib inline\n",
    "\n",
    "# Loading the data\n",
    "(x_train, y_train), (x_test, y_test) = tf.keras.datasets.mnist.load_data()\n",
    "\n",
    "# Scaling(image data는 min-max scaling 주로 사용)\n",
    "x_train = x_train/255.0\n",
    "x_test = x_test/255.0"
   ]
  },
  {
   "cell_type": "markdown",
   "metadata": {
    "id": "RDU8J2xRU2QQ"
   },
   "source": [
    "## Training Data\n",
    "28 * 28 pixel 값을 가진 총 60000개의 이미지 데이터"
   ]
  },
  {
   "cell_type": "code",
   "execution_count": 142,
   "metadata": {
    "ExecuteTime": {
     "end_time": "2021-01-29T17:35:56.329854Z",
     "start_time": "2021-01-29T17:35:56.316889Z"
    },
    "id": "jVvXmjQSU2QQ"
   },
   "outputs": [
    {
     "data": {
      "text/plain": [
       "(60000, 28, 28)"
      ]
     },
     "execution_count": 142,
     "metadata": {},
     "output_type": "execute_result"
    }
   ],
   "source": [
    "x_train.shape "
   ]
  },
  {
   "cell_type": "markdown",
   "metadata": {
    "id": "-VTAAYKSU2QQ"
   },
   "source": [
    "Neural network 모델에 맞게 이미지 데이터를 벡터 형태로 데이터를 reshape 합니다.  \n",
    "(Model을 만들 때 *keras.layers.Flatten(input_shape=(28, 28)) 이용해도 됨)"
   ]
  },
  {
   "cell_type": "code",
   "execution_count": 143,
   "metadata": {
    "ExecuteTime": {
     "end_time": "2021-01-29T17:35:56.344815Z",
     "start_time": "2021-01-29T17:35:56.332847Z"
    },
    "id": "dq36yUX8U2QR"
   },
   "outputs": [
    {
     "data": {
      "text/plain": [
       "((60000, 784), (10000, 784))"
      ]
     },
     "execution_count": 143,
     "metadata": {},
     "output_type": "execute_result"
    }
   ],
   "source": [
    "x_train, x_test = x_train.reshape((-1, 28*28)), x_test.reshape((-1, 28*28))\n",
    "x_train.shape, x_test.shape"
   ]
  },
  {
   "cell_type": "code",
   "execution_count": 144,
   "metadata": {
    "ExecuteTime": {
     "end_time": "2021-01-29T17:35:56.587166Z",
     "start_time": "2021-01-29T17:35:56.347808Z"
    },
    "id": "zrQLH9iXU2QR"
   },
   "outputs": [
    {
     "ename": "TypeError",
     "evalue": "Invalid shape (784,) for image data",
     "output_type": "error",
     "traceback": [
      "\u001b[1;31m---------------------------------------------------------------------------\u001b[0m",
      "\u001b[1;31mTypeError\u001b[0m                                 Traceback (most recent call last)",
      "\u001b[1;32m<ipython-input-144-98fd9d2b3fe3>\u001b[0m in \u001b[0;36m<module>\u001b[1;34m\u001b[0m\n\u001b[1;32m----> 1\u001b[1;33m \u001b[0mplt\u001b[0m\u001b[1;33m.\u001b[0m\u001b[0mimshow\u001b[0m\u001b[1;33m(\u001b[0m\u001b[0mx_train\u001b[0m\u001b[1;33m[\u001b[0m\u001b[1;36m0\u001b[0m\u001b[1;33m]\u001b[0m\u001b[1;33m)\u001b[0m\u001b[1;33m.\u001b[0m\u001b[0mset_cmap\u001b[0m\u001b[1;33m(\u001b[0m\u001b[1;34m'Greys'\u001b[0m\u001b[1;33m)\u001b[0m\u001b[1;33m\u001b[0m\u001b[1;33m\u001b[0m\u001b[0m\n\u001b[0m",
      "\u001b[1;32m~\\anaconda3\\lib\\site-packages\\matplotlib\\pyplot.py\u001b[0m in \u001b[0;36mimshow\u001b[1;34m(X, cmap, norm, aspect, interpolation, alpha, vmin, vmax, origin, extent, filternorm, filterrad, resample, url, data, **kwargs)\u001b[0m\n\u001b[0;32m   2722\u001b[0m         \u001b[0mfilternorm\u001b[0m\u001b[1;33m=\u001b[0m\u001b[1;32mTrue\u001b[0m\u001b[1;33m,\u001b[0m \u001b[0mfilterrad\u001b[0m\u001b[1;33m=\u001b[0m\u001b[1;36m4.0\u001b[0m\u001b[1;33m,\u001b[0m \u001b[0mresample\u001b[0m\u001b[1;33m=\u001b[0m\u001b[1;32mNone\u001b[0m\u001b[1;33m,\u001b[0m \u001b[0murl\u001b[0m\u001b[1;33m=\u001b[0m\u001b[1;32mNone\u001b[0m\u001b[1;33m,\u001b[0m\u001b[1;33m\u001b[0m\u001b[1;33m\u001b[0m\u001b[0m\n\u001b[0;32m   2723\u001b[0m         data=None, **kwargs):\n\u001b[1;32m-> 2724\u001b[1;33m     __ret = gca().imshow(\n\u001b[0m\u001b[0;32m   2725\u001b[0m         \u001b[0mX\u001b[0m\u001b[1;33m,\u001b[0m \u001b[0mcmap\u001b[0m\u001b[1;33m=\u001b[0m\u001b[0mcmap\u001b[0m\u001b[1;33m,\u001b[0m \u001b[0mnorm\u001b[0m\u001b[1;33m=\u001b[0m\u001b[0mnorm\u001b[0m\u001b[1;33m,\u001b[0m \u001b[0maspect\u001b[0m\u001b[1;33m=\u001b[0m\u001b[0maspect\u001b[0m\u001b[1;33m,\u001b[0m\u001b[1;33m\u001b[0m\u001b[1;33m\u001b[0m\u001b[0m\n\u001b[0;32m   2726\u001b[0m         \u001b[0minterpolation\u001b[0m\u001b[1;33m=\u001b[0m\u001b[0minterpolation\u001b[0m\u001b[1;33m,\u001b[0m \u001b[0malpha\u001b[0m\u001b[1;33m=\u001b[0m\u001b[0malpha\u001b[0m\u001b[1;33m,\u001b[0m \u001b[0mvmin\u001b[0m\u001b[1;33m=\u001b[0m\u001b[0mvmin\u001b[0m\u001b[1;33m,\u001b[0m\u001b[1;33m\u001b[0m\u001b[1;33m\u001b[0m\u001b[0m\n",
      "\u001b[1;32m~\\anaconda3\\lib\\site-packages\\matplotlib\\__init__.py\u001b[0m in \u001b[0;36minner\u001b[1;34m(ax, data, *args, **kwargs)\u001b[0m\n\u001b[0;32m   1436\u001b[0m     \u001b[1;32mdef\u001b[0m \u001b[0minner\u001b[0m\u001b[1;33m(\u001b[0m\u001b[0max\u001b[0m\u001b[1;33m,\u001b[0m \u001b[1;33m*\u001b[0m\u001b[0margs\u001b[0m\u001b[1;33m,\u001b[0m \u001b[0mdata\u001b[0m\u001b[1;33m=\u001b[0m\u001b[1;32mNone\u001b[0m\u001b[1;33m,\u001b[0m \u001b[1;33m**\u001b[0m\u001b[0mkwargs\u001b[0m\u001b[1;33m)\u001b[0m\u001b[1;33m:\u001b[0m\u001b[1;33m\u001b[0m\u001b[1;33m\u001b[0m\u001b[0m\n\u001b[0;32m   1437\u001b[0m         \u001b[1;32mif\u001b[0m \u001b[0mdata\u001b[0m \u001b[1;32mis\u001b[0m \u001b[1;32mNone\u001b[0m\u001b[1;33m:\u001b[0m\u001b[1;33m\u001b[0m\u001b[1;33m\u001b[0m\u001b[0m\n\u001b[1;32m-> 1438\u001b[1;33m             \u001b[1;32mreturn\u001b[0m \u001b[0mfunc\u001b[0m\u001b[1;33m(\u001b[0m\u001b[0max\u001b[0m\u001b[1;33m,\u001b[0m \u001b[1;33m*\u001b[0m\u001b[0mmap\u001b[0m\u001b[1;33m(\u001b[0m\u001b[0msanitize_sequence\u001b[0m\u001b[1;33m,\u001b[0m \u001b[0margs\u001b[0m\u001b[1;33m)\u001b[0m\u001b[1;33m,\u001b[0m \u001b[1;33m**\u001b[0m\u001b[0mkwargs\u001b[0m\u001b[1;33m)\u001b[0m\u001b[1;33m\u001b[0m\u001b[1;33m\u001b[0m\u001b[0m\n\u001b[0m\u001b[0;32m   1439\u001b[0m \u001b[1;33m\u001b[0m\u001b[0m\n\u001b[0;32m   1440\u001b[0m         \u001b[0mbound\u001b[0m \u001b[1;33m=\u001b[0m \u001b[0mnew_sig\u001b[0m\u001b[1;33m.\u001b[0m\u001b[0mbind\u001b[0m\u001b[1;33m(\u001b[0m\u001b[0max\u001b[0m\u001b[1;33m,\u001b[0m \u001b[1;33m*\u001b[0m\u001b[0margs\u001b[0m\u001b[1;33m,\u001b[0m \u001b[1;33m**\u001b[0m\u001b[0mkwargs\u001b[0m\u001b[1;33m)\u001b[0m\u001b[1;33m\u001b[0m\u001b[1;33m\u001b[0m\u001b[0m\n",
      "\u001b[1;32m~\\anaconda3\\lib\\site-packages\\matplotlib\\axes\\_axes.py\u001b[0m in \u001b[0;36mimshow\u001b[1;34m(self, X, cmap, norm, aspect, interpolation, alpha, vmin, vmax, origin, extent, filternorm, filterrad, resample, url, **kwargs)\u001b[0m\n\u001b[0;32m   5521\u001b[0m                               resample=resample, **kwargs)\n\u001b[0;32m   5522\u001b[0m \u001b[1;33m\u001b[0m\u001b[0m\n\u001b[1;32m-> 5523\u001b[1;33m         \u001b[0mim\u001b[0m\u001b[1;33m.\u001b[0m\u001b[0mset_data\u001b[0m\u001b[1;33m(\u001b[0m\u001b[0mX\u001b[0m\u001b[1;33m)\u001b[0m\u001b[1;33m\u001b[0m\u001b[1;33m\u001b[0m\u001b[0m\n\u001b[0m\u001b[0;32m   5524\u001b[0m         \u001b[0mim\u001b[0m\u001b[1;33m.\u001b[0m\u001b[0mset_alpha\u001b[0m\u001b[1;33m(\u001b[0m\u001b[0malpha\u001b[0m\u001b[1;33m)\u001b[0m\u001b[1;33m\u001b[0m\u001b[1;33m\u001b[0m\u001b[0m\n\u001b[0;32m   5525\u001b[0m         \u001b[1;32mif\u001b[0m \u001b[0mim\u001b[0m\u001b[1;33m.\u001b[0m\u001b[0mget_clip_path\u001b[0m\u001b[1;33m(\u001b[0m\u001b[1;33m)\u001b[0m \u001b[1;32mis\u001b[0m \u001b[1;32mNone\u001b[0m\u001b[1;33m:\u001b[0m\u001b[1;33m\u001b[0m\u001b[1;33m\u001b[0m\u001b[0m\n",
      "\u001b[1;32m~\\anaconda3\\lib\\site-packages\\matplotlib\\image.py\u001b[0m in \u001b[0;36mset_data\u001b[1;34m(self, A)\u001b[0m\n\u001b[0;32m    707\u001b[0m         if not (self._A.ndim == 2\n\u001b[0;32m    708\u001b[0m                 or self._A.ndim == 3 and self._A.shape[-1] in [3, 4]):\n\u001b[1;32m--> 709\u001b[1;33m             raise TypeError(\"Invalid shape {} for image data\"\n\u001b[0m\u001b[0;32m    710\u001b[0m                             .format(self._A.shape))\n\u001b[0;32m    711\u001b[0m \u001b[1;33m\u001b[0m\u001b[0m\n",
      "\u001b[1;31mTypeError\u001b[0m: Invalid shape (784,) for image data"
     ]
    },
    {
     "data": {
      "image/png": "[encoded data removed]",
      "text/plain": [
       "<Figure size 432x288 with 1 Axes>"
      ]
     },
     "metadata": {
      "needs_background": "light"
     },
     "output_type": "display_data"
    }
   ],
   "source": [
    "plt.imshow(x_train[0]).set_cmap('Greys')"
   ]
  },
  {
   "cell_type": "markdown",
   "metadata": {
    "id": "0YZXzr-AU2QR"
   },
   "source": [
    "## Training Labels\n",
    "이미지 데이터가 나타내는 숫자값을 label로 가지고 있고, 0부터 9까지의 값을 나타냄  \n",
    "마찬가지로, 60000개의 label이 존재"
   ]
  },
  {
   "cell_type": "code",
   "execution_count": null,
   "metadata": {
    "ExecuteTime": {
     "end_time": "2021-01-29T17:35:56.590158Z",
     "start_time": "2021-01-29T17:35:56.180Z"
    },
    "id": "V-JVvQcJU2QR"
   },
   "outputs": [],
   "source": [
    "y_train.shape"
   ]
  },
  {
   "cell_type": "code",
   "execution_count": null,
   "metadata": {
    "ExecuteTime": {
     "end_time": "2021-01-29T17:35:56.593151Z",
     "start_time": "2021-01-29T17:35:56.185Z"
    },
    "id": "PgAkJK6yU2QR"
   },
   "outputs": [],
   "source": [
    "# show MNIST label for above data\n",
    "y_train[0]"
   ]
  },
  {
   "cell_type": "markdown",
   "metadata": {
    "id": "qaI3Kv_GU2QR"
   },
   "source": [
    "## 나만의 모델을 tensorflow keras API 를 이용해 만들어 봅시다~"
   ]
  },
  {
   "cell_type": "markdown",
   "metadata": {
    "id": "gSshVnt2U2QS"
   },
   "source": [
    "* parameters for model"
   ]
  },
  {
   "cell_type": "code",
   "execution_count": 145,
   "metadata": {
    "ExecuteTime": {
     "end_time": "2021-01-29T17:35:56.799596Z",
     "start_time": "2021-01-29T17:35:56.694878Z"
    },
    "id": "coUZ53nKU2QS"
   },
   "outputs": [],
   "source": [
    "activation_list = [\"sigmoid\", \"relu\", \"softmax\", \"tanh\"]\n",
    "\n",
    "loss_list = [\"sparse_categorical_crossentropy\",\n",
    "             \"categorical_crossentropy\", \n",
    "             \"binary_crossentropy\"]\n",
    "\n",
    "optimizer_list = [\"sgd\", \"adam\", \"rmsprop\", \"adagrad\"]\n",
    "\n",
    "initializer_list = [tf.keras.initializers.RandomNormal(), \n",
    "                    tf.keras.initializers.RandomUniform(), \n",
    "                    tf.keras.initializers.he_normal(), \n",
    "                    tf.keras.initializers.he_uniform(), \n",
    "                    tf.keras.initializers.GlorotUniform(),\n",
    "                    tf.keras.initializers.GlorotNormal()]\n",
    "\n",
    "# dropout\n",
    "dropout_rate = 0.3\n",
    "model = tf.keras.Sequential([\n",
    "    tf.keras.layers.Dense(256, input_dim=784, activation = \"sigmoid\"),\n",
    "    tf.keras.layers.Dense(2, activation = \"sigmoid\"),\n",
    "    tf.keras.layers.Dropout(dropout_rate)\n",
    "])\n",
    "\n",
    "\n",
    "# regularizer\n",
    "regularizer = tf.keras.regularizers.l1(1e-3)\n",
    "regularizer = tf.keras.regularizers.l2(1e-3)\n",
    "model = tf.keras.Sequential([\n",
    "    tf.keras.layers.Dense(256, input_dim=784, activation=\"sigmoid\",\n",
    "                          activity_regularizer=regularizer)\n",
    "])\n",
    "\n",
    "# weight initialization\n",
    "model = tf.keras.Sequential([\n",
    "    tf.keras.layers.Dense(256, input_dim=784, activation=\"sigmoid\",\n",
    "                          kernel_initializer=initializer_list[0])\n",
    "])"
   ]
  },
  {
   "cell_type": "markdown",
   "metadata": {
    "id": "d-6ZTz4AU2QS"
   },
   "source": [
    "#### My Own Model "
   ]
  },
  {
   "cell_type": "code",
   "execution_count": 146,
   "metadata": {
    "ExecuteTime": {
     "end_time": "2021-01-29T17:35:56.859477Z",
     "start_time": "2021-01-29T17:35:56.802592Z"
    },
    "id": "ziVbGe6sU2QS"
   },
   "outputs": [],
   "source": [
    "#### 자유롭게 Model을 만들고 compile 해봅시다 ####\n",
    "input_=keras.layers.Input(shape=x_train.shape[1])\n",
    "layer1=keras.layers.Dense(300, activation=\"relu\", kernel_initializer=\"he_normal\")(input_)\n",
    "layer2=keras.layers.Dense(100, activation=\"relu\", kernel_initializer=\"he_normal\")(layer1)\n",
    "output_=keras.layers.Dense(10, activation=\"softmax\")(layer2)\n",
    "model=keras.Model(inputs=[input_], outputs=[output_])"
   ]
  },
  {
   "cell_type": "markdown",
   "metadata": {
    "id": "PVhLJHJ9U2QT"
   },
   "source": [
    "내가 만든 모델을 확인해 봅시다."
   ]
  },
  {
   "cell_type": "code",
   "execution_count": 147,
   "metadata": {
    "ExecuteTime": {
     "end_time": "2021-01-29T17:35:56.965155Z",
     "start_time": "2021-01-29T17:35:56.957180Z"
    },
    "id": "GChgw-8sU2QT"
   },
   "outputs": [
    {
     "name": "stdout",
     "output_type": "stream",
     "text": [
      "Model: \"model_3\"\n",
      "_________________________________________________________________\n",
      "Layer (type)                 Output Shape              Param #   \n",
      "=================================================================\n",
      "input_7 (InputLayer)         [(None, 784)]             0         \n",
      "_________________________________________________________________\n",
      "dense_24 (Dense)             (None, 300)               235500    \n",
      "_________________________________________________________________\n",
      "dense_25 (Dense)             (None, 100)               30100     \n",
      "_________________________________________________________________\n",
      "dense_26 (Dense)             (None, 10)                1010      \n",
      "=================================================================\n",
      "Total params: 266,610\n",
      "Trainable params: 266,610\n",
      "Non-trainable params: 0\n",
      "_________________________________________________________________\n"
     ]
    }
   ],
   "source": [
    "model.summary()"
   ]
  },
  {
   "cell_type": "code",
   "execution_count": 148,
   "metadata": {
    "ExecuteTime": {
     "end_time": "2021-01-29T17:35:56.997106Z",
     "start_time": "2021-01-29T17:35:56.969145Z"
    }
   },
   "outputs": [],
   "source": [
    "model.compile(loss=\"sparse_categorical_crossentropy\",\n",
    "             optimizer=\"sgd\",\n",
    "             metrics=\"accuracy\")"
   ]
  },
  {
   "cell_type": "markdown",
   "metadata": {
    "id": "f9zWRRHIU2QT"
   },
   "source": [
    "model을 자유롭게 train 해봅시다.  "
   ]
  },
  {
   "cell_type": "code",
   "execution_count": 149,
   "metadata": {
    "ExecuteTime": {
     "end_time": "2021-01-29T17:38:11.454994Z",
     "start_time": "2021-01-29T17:35:57.112778Z"
    },
    "id": "6uygJ19gU2QT"
   },
   "outputs": [
    {
     "name": "stdout",
     "output_type": "stream",
     "text": [
      "Epoch 1/30\n",
      "1500/1500 [==============================] - 6s 4ms/step - loss: 0.9882 - accuracy: 0.7269 - val_loss: 0.3056 - val_accuracy: 0.9122\n",
      "Epoch 2/30\n",
      "1500/1500 [==============================] - 5s 3ms/step - loss: 0.3029 - accuracy: 0.9138 - val_loss: 0.2429 - val_accuracy: 0.9316\n",
      "Epoch 3/30\n",
      "1500/1500 [==============================] - 5s 3ms/step - loss: 0.2405 - accuracy: 0.9313 - val_loss: 0.2133 - val_accuracy: 0.9403\n",
      "Epoch 4/30\n",
      "1500/1500 [==============================] - 5s 3ms/step - loss: 0.2045 - accuracy: 0.9419 - val_loss: 0.1859 - val_accuracy: 0.9491\n",
      "Epoch 5/30\n",
      "1500/1500 [==============================] - 4s 3ms/step - loss: 0.1786 - accuracy: 0.9489 - val_loss: 0.1716 - val_accuracy: 0.9522\n",
      "Epoch 6/30\n",
      "1500/1500 [==============================] - 4s 3ms/step - loss: 0.1596 - accuracy: 0.9531 - val_loss: 0.1609 - val_accuracy: 0.9551\n",
      "Epoch 7/30\n",
      "1500/1500 [==============================] - 4s 3ms/step - loss: 0.1433 - accuracy: 0.9587 - val_loss: 0.1459 - val_accuracy: 0.9592\n",
      "Epoch 8/30\n",
      "1500/1500 [==============================] - 4s 3ms/step - loss: 0.1315 - accuracy: 0.9629 - val_loss: 0.1370 - val_accuracy: 0.9625\n",
      "Epoch 9/30\n",
      "1500/1500 [==============================] - 4s 3ms/step - loss: 0.1184 - accuracy: 0.9660 - val_loss: 0.1385 - val_accuracy: 0.9599\n",
      "Epoch 10/30\n",
      "1500/1500 [==============================] - 4s 3ms/step - loss: 0.1086 - accuracy: 0.9687 - val_loss: 0.1261 - val_accuracy: 0.9655\n",
      "Epoch 11/30\n",
      "1500/1500 [==============================] - 4s 3ms/step - loss: 0.1023 - accuracy: 0.9705 - val_loss: 0.1189 - val_accuracy: 0.9672\n",
      "Epoch 12/30\n",
      "1500/1500 [==============================] - 4s 3ms/step - loss: 0.0897 - accuracy: 0.9748 - val_loss: 0.1160 - val_accuracy: 0.9672\n",
      "Epoch 13/30\n",
      "1500/1500 [==============================] - 4s 3ms/step - loss: 0.0861 - accuracy: 0.9760 - val_loss: 0.1107 - val_accuracy: 0.9688\n",
      "Epoch 14/30\n",
      "1500/1500 [==============================] - 4s 3ms/step - loss: 0.0772 - accuracy: 0.9789 - val_loss: 0.1078 - val_accuracy: 0.9696\n",
      "Epoch 15/30\n",
      "1500/1500 [==============================] - 4s 3ms/step - loss: 0.0741 - accuracy: 0.9801 - val_loss: 0.1057 - val_accuracy: 0.9697\n",
      "Epoch 16/30\n",
      "1500/1500 [==============================] - 4s 3ms/step - loss: 0.0665 - accuracy: 0.9815 - val_loss: 0.1039 - val_accuracy: 0.9711\n",
      "Epoch 17/30\n",
      "1500/1500 [==============================] - 4s 3ms/step - loss: 0.0630 - accuracy: 0.9839 - val_loss: 0.0979 - val_accuracy: 0.9721\n",
      "Epoch 18/30\n",
      "1500/1500 [==============================] - 4s 3ms/step - loss: 0.0616 - accuracy: 0.9831 - val_loss: 0.0975 - val_accuracy: 0.9715\n",
      "Epoch 19/30\n",
      "1500/1500 [==============================] - 5s 3ms/step - loss: 0.0536 - accuracy: 0.9862 - val_loss: 0.0960 - val_accuracy: 0.9728\n",
      "Epoch 20/30\n",
      "1500/1500 [==============================] - 5s 4ms/step - loss: 0.0518 - accuracy: 0.9869 - val_loss: 0.0953 - val_accuracy: 0.9738\n",
      "Epoch 21/30\n",
      "1500/1500 [==============================] - 5s 3ms/step - loss: 0.0487 - accuracy: 0.9876 - val_loss: 0.0934 - val_accuracy: 0.9733\n",
      "Epoch 22/30\n",
      "1500/1500 [==============================] - 4s 3ms/step - loss: 0.0454 - accuracy: 0.9886 - val_loss: 0.0962 - val_accuracy: 0.9722\n",
      "Epoch 23/30\n",
      "1500/1500 [==============================] - 4s 3ms/step - loss: 0.0428 - accuracy: 0.9891 - val_loss: 0.0934 - val_accuracy: 0.9733\n",
      "Epoch 24/30\n",
      "1500/1500 [==============================] - 4s 3ms/step - loss: 0.0406 - accuracy: 0.9903 - val_loss: 0.0919 - val_accuracy: 0.9740\n",
      "Epoch 25/30\n",
      "1500/1500 [==============================] - 4s 3ms/step - loss: 0.0391 - accuracy: 0.9911 - val_loss: 0.0891 - val_accuracy: 0.9757\n",
      "Epoch 26/30\n",
      "1500/1500 [==============================] - 4s 3ms/step - loss: 0.0355 - accuracy: 0.9914 - val_loss: 0.0900 - val_accuracy: 0.9747\n",
      "Epoch 27/30\n",
      "1500/1500 [==============================] - 4s 3ms/step - loss: 0.0331 - accuracy: 0.9929 - val_loss: 0.0883 - val_accuracy: 0.9751\n",
      "Epoch 28/30\n",
      "1500/1500 [==============================] - 4s 3ms/step - loss: 0.0314 - accuracy: 0.9929 - val_loss: 0.0874 - val_accuracy: 0.9755\n",
      "Epoch 29/30\n",
      "1500/1500 [==============================] - 4s 3ms/step - loss: 0.0288 - accuracy: 0.9935 - val_loss: 0.0877 - val_accuracy: 0.9760\n",
      "Epoch 30/30\n",
      "1500/1500 [==============================] - 4s 3ms/step - loss: 0.0277 - accuracy: 0.9938 - val_loss: 0.0881 - val_accuracy: 0.9761\n"
     ]
    }
   ],
   "source": [
    "history=model.fit(x_train, y_train, epochs=30, validation_split=0.2)"
   ]
  },
  {
   "cell_type": "markdown",
   "metadata": {
    "id": "U8A4zKnEU2QT"
   },
   "source": [
    "95%이상의 성능을 가진 모델을 만들면 완성!"
   ]
  },
  {
   "cell_type": "code",
   "execution_count": 150,
   "metadata": {
    "ExecuteTime": {
     "end_time": "2021-01-29T17:38:12.296003Z",
     "start_time": "2021-01-29T17:38:11.462974Z"
    }
   },
   "outputs": [
    {
     "data": {
      "image/png": "[encoded data removed]",
      "text/plain": [
       "<Figure size 720x864 with 1 Axes>"
      ]
     },
     "metadata": {
      "needs_background": "light"
     },
     "output_type": "display_data"
    }
   ],
   "source": [
    "import pandas as pd\n",
    "pd.DataFrame(history.history).plot(figsize=(10, 12))\n",
    "plt.grid(True)\n",
    "plt.gca().set_ylim(0, 1)\n",
    "plt.show()"
   ]
  },
  {
   "cell_type": "code",
   "execution_count": 152,
   "metadata": {
    "ExecuteTime": {
     "end_time": "2021-01-29T17:38:20.194837Z",
     "start_time": "2021-01-29T17:38:19.538930Z"
    },
    "id": "9Xz0qGifU2QU"
   },
   "outputs": [
    {
     "name": "stdout",
     "output_type": "stream",
     "text": [
      "313/313 - 1s - loss: 0.0767 - accuracy: 0.9768\n",
      "\n",
      "Accuracy: 0.9768000245094299\n"
     ]
    }
   ],
   "source": [
    "test_loss, test_acc = model.evaluate(x_test,y_test, verbose=2)\n",
    "\n",
    "print('\\nAccuracy:', test_acc)"
   ]
  },
  {
   "cell_type": "markdown",
   "metadata": {
    "collapsed": true,
    "id": "EbcuzK_PU2QU"
   },
   "source": [
    "![](https://www.tensorflow.org/versions/master/images/mnist_tensorboard.png)"
   ]
  }
 ],
 "metadata": {
  "colab": {
   "name": "DL기초 과제.ipynb",
   "provenance": []
  },
  "kernelspec": {
   "display_name": "Python 3",
   "language": "python",
   "name": "python3"
  },
  "language_info": {
   "codemirror_mode": {
    "name": "ipython",
    "version": 3
   },
   "file_extension": ".py",
   "mimetype": "text/x-python",
   "name": "python",
   "nbconvert_exporter": "python",
   "pygments_lexer": "ipython3",
   "version": "3.8.5"
  },
  "toc": {
   "base_numbering": 1,
   "nav_menu": {},
   "number_sections": true,
   "sideBar": true,
   "skip_h1_title": false,
   "title_cell": "Table of Contents",
   "title_sidebar": "Contents",
   "toc_cell": false,
   "toc_position": {},
   "toc_section_display": true,
   "toc_window_display": false
  },
  "varInspector": {
   "cols": {
    "lenName": 16,
    "lenType": 16,
    "lenVar": 40
   },
   "kernels_config": {
    "python": {
     "delete_cmd_postfix": "",
     "delete_cmd_prefix": "del ",
     "library": "var_list.py",
     "varRefreshCmd": "print(var_dic_list())"
    },
    "r": {
     "delete_cmd_postfix": ") ",
     "delete_cmd_prefix": "rm(",
     "library": "var_list.r",
     "varRefreshCmd": "cat(var_dic_list()) "
    }
   },
   "position": {
    "height": "430px",
    "left": "1900px",
    "right": "20px",
    "top": "88px",
    "width": "437px"
   },
   "types_to_exclude": [
    "module",
    "function",
    "builtin_function_or_method",
    "instance",
    "_Feature"
   ],
   "window_display": true
  }
 },
 "nbformat": 4,
 "nbformat_minor": 1
}
