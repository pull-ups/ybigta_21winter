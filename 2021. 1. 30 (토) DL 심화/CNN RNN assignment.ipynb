{
 "cells": [
  {
   "cell_type": "code",
   "execution_count": 1,
   "metadata": {
    "ExecuteTime": {
     "end_time": "2021-02-06T06:27:20.991603Z",
     "start_time": "2021-02-06T06:27:09.219457Z"
    }
   },
   "outputs": [],
   "source": [
    "import numpy as np\n",
    "import tensorflow as tf\n",
    "import matplotlib.pyplot as plt\n",
    "from PIL import Image\n",
    "%matplotlib inline"
   ]
  },
  {
   "cell_type": "code",
   "execution_count": 2,
   "metadata": {
    "ExecuteTime": {
     "end_time": "2021-02-06T06:27:35.699186Z",
     "start_time": "2021-02-06T06:27:35.237705Z"
    }
   },
   "outputs": [
    {
     "data": {
      "text/plain": [
       "((60000, 10), (10000, 10))"
      ]
     },
     "execution_count": 2,
     "metadata": {},
     "output_type": "execute_result"
    }
   ],
   "source": [
    "(x_train, y_train), (x_test, y_test) = tf.keras.datasets.mnist.load_data()\n",
    "x_train = np.reshape(x_train, (-1,28,28,1))\n",
    "x_test = np.reshape(x_test, (-1,28,28,1))\n",
    "x_train.shape, x_test.shape\n",
    "\n",
    "y_train = tf.keras.utils.to_categorical(y_train, 10)\n",
    "y_test = tf.keras.utils.to_categorical(y_test, 10)\n",
    "y_train.shape, y_test.shape"
   ]
  },
  {
   "cell_type": "code",
   "execution_count": 3,
   "metadata": {
    "ExecuteTime": {
     "end_time": "2021-02-06T06:27:51.489326Z",
     "start_time": "2021-02-06T06:27:51.144255Z"
    }
   },
   "outputs": [],
   "source": [
    "## data augmentation\n",
    "datagen = tf.keras.preprocessing.image.ImageDataGenerator(\n",
    "    rotation_range = 20,\n",
    "    width_shift_range = 0.1,\n",
    "    height_shift_range = 0.1,\n",
    "    validation_split = 0.25\n",
    ")\n",
    "datagen.fit(x_train)"
   ]
  },
  {
   "cell_type": "code",
   "execution_count": 4,
   "metadata": {
    "ExecuteTime": {
     "end_time": "2021-02-06T06:28:41.510068Z",
     "start_time": "2021-02-06T06:28:40.030844Z"
    }
   },
   "outputs": [
    {
     "name": "stdout",
     "output_type": "stream",
     "text": [
      "Model: \"sequential\"\n",
      "_________________________________________________________________\n",
      "Layer (type)                 Output Shape              Param #   \n",
      "=================================================================\n",
      "conv2d (Conv2D)              (None, 24, 24, 10)        260       \n",
      "_________________________________________________________________\n",
      "max_pooling2d (MaxPooling2D) (None, 12, 12, 10)        0         \n",
      "_________________________________________________________________\n",
      "conv2d_1 (Conv2D)            (None, 10, 10, 20)        1820      \n",
      "_________________________________________________________________\n",
      "max_pooling2d_1 (MaxPooling2 (None, 5, 5, 20)          0         \n",
      "_________________________________________________________________\n",
      "flatten (Flatten)            (None, 500)               0         \n",
      "_________________________________________________________________\n",
      "dense (Dense)                (None, 50)                25050     \n",
      "_________________________________________________________________\n",
      "flatten_1 (Flatten)          (None, 50)                0         \n",
      "_________________________________________________________________\n",
      "dense_1 (Dense)              (None, 50)                2550      \n",
      "_________________________________________________________________\n",
      "flatten_2 (Flatten)          (None, 50)                0         \n",
      "_________________________________________________________________\n",
      "dense_2 (Dense)              (None, 10)                510       \n",
      "=================================================================\n",
      "Total params: 30,190\n",
      "Trainable params: 30,190\n",
      "Non-trainable params: 0\n",
      "_________________________________________________________________\n"
     ]
    }
   ],
   "source": [
    "## create model\n",
    "\n",
    "model = tf.keras.Sequential([\n",
    "    tf.keras.layers.Conv2D(input_shape=(28,28,1), kernel_size=(5,5), filters=10, activation='relu'),\n",
    "    tf.keras.layers.MaxPool2D(pool_size=(2,2)),\n",
    "    tf.keras.layers.Conv2D(kernel_size=(3,3), filters=20, activation='relu'),\n",
    "    tf.keras.layers.MaxPool2D(pool_size=(2,2)),\n",
    "    tf.keras.layers.Flatten(),\n",
    "    tf.keras.layers.Dense(units=50, activation='relu'),\n",
    "    tf.keras.layers.Flatten(),\n",
    "    tf.keras.layers.Dense(units=50, activation='relu'),\n",
    "    tf.keras.layers.Flatten(),\n",
    "    tf.keras.layers.Dense(units=10, activation='softmax')\n",
    "])\n",
    "\n",
    "model.compile(optimizer=tf.keras.optimizers.Adam(), \n",
    "              loss='categorical_crossentropy',\n",
    "              metrics = ['accuracy']\n",
    "             )\n",
    "\n",
    "model.summary()"
   ]
  },
  {
   "cell_type": "code",
   "execution_count": 5,
   "metadata": {
    "ExecuteTime": {
     "end_time": "2021-02-06T06:44:22.503910Z",
     "start_time": "2021-02-06T06:28:50.101126Z"
    }
   },
   "outputs": [
    {
     "name": "stderr",
     "output_type": "stream",
     "text": [
      "C:\\Users\\dlatm\\anaconda3\\lib\\site-packages\\tensorflow\\python\\keras\\engine\\training.py:1844: UserWarning: `Model.fit_generator` is deprecated and will be removed in a future version. Please use `Model.fit`, which supports generators.\n",
      "  warnings.warn('`Model.fit_generator` is deprecated and '\n"
     ]
    },
    {
     "name": "stdout",
     "output_type": "stream",
     "text": [
      "Epoch 1/30\n",
      "704/704 [==============================] - 36s 48ms/step - loss: 3.1472 - accuracy: 0.5432 - val_loss: 0.3428 - val_accuracy: 0.8947\n",
      "Epoch 2/30\n",
      "704/704 [==============================] - 28s 39ms/step - loss: 0.2980 - accuracy: 0.9078 - val_loss: 0.2429 - val_accuracy: 0.9283\n",
      "Epoch 3/30\n",
      "704/704 [==============================] - 28s 40ms/step - loss: 0.1940 - accuracy: 0.9403 - val_loss: 0.1643 - val_accuracy: 0.9479\n",
      "Epoch 4/30\n",
      "704/704 [==============================] - 36s 51ms/step - loss: 0.1555 - accuracy: 0.9512 - val_loss: 0.1380 - val_accuracy: 0.9593\n",
      "Epoch 5/30\n",
      "704/704 [==============================] - 33s 46ms/step - loss: 0.1264 - accuracy: 0.9609 - val_loss: 0.1251 - val_accuracy: 0.9618\n",
      "Epoch 6/30\n",
      "704/704 [==============================] - 33s 46ms/step - loss: 0.1229 - accuracy: 0.9624 - val_loss: 0.1467 - val_accuracy: 0.9551\n",
      "Epoch 7/30\n",
      "704/704 [==============================] - 30s 43ms/step - loss: 0.1108 - accuracy: 0.9670 - val_loss: 0.1261 - val_accuracy: 0.9609\n",
      "Epoch 8/30\n",
      "704/704 [==============================] - 32s 46ms/step - loss: 0.0998 - accuracy: 0.9683 - val_loss: 0.0991 - val_accuracy: 0.9707\n",
      "Epoch 9/30\n",
      "704/704 [==============================] - 30s 43ms/step - loss: 0.0990 - accuracy: 0.9705 - val_loss: 0.1157 - val_accuracy: 0.9657 loss: 0.0990 - accuracy: 0.97\n",
      "Epoch 10/30\n",
      "704/704 [==============================] - 29s 41ms/step - loss: 0.0874 - accuracy: 0.9746 - val_loss: 0.0941 - val_accuracy: 0.9725\n",
      "Epoch 11/30\n",
      "704/704 [==============================] - 28s 40ms/step - loss: 0.0906 - accuracy: 0.9729 - val_loss: 0.0862 - val_accuracy: 0.9745\n",
      "Epoch 12/30\n",
      "704/704 [==============================] - 30s 43ms/step - loss: 0.0836 - accuracy: 0.9743 - val_loss: 0.0895 - val_accuracy: 0.9739\n",
      "Epoch 13/30\n",
      "704/704 [==============================] - 28s 40ms/step - loss: 0.0770 - accuracy: 0.9765 - val_loss: 0.0966 - val_accuracy: 0.9715\n",
      "Epoch 14/30\n",
      "704/704 [==============================] - 29s 41ms/step - loss: 0.0782 - accuracy: 0.9762 - val_loss: 0.0828 - val_accuracy: 0.9755\n",
      "Epoch 15/30\n",
      "704/704 [==============================] - 29s 41ms/step - loss: 0.0741 - accuracy: 0.9771 - val_loss: 0.0692 - val_accuracy: 0.9800\n",
      "Epoch 16/30\n",
      "704/704 [==============================] - 31s 44ms/step - loss: 0.0666 - accuracy: 0.9793 - val_loss: 0.0909 - val_accuracy: 0.9741\n",
      "Epoch 17/30\n",
      "704/704 [==============================] - 29s 42ms/step - loss: 0.0699 - accuracy: 0.9789 - val_loss: 0.0839 - val_accuracy: 0.9747\n",
      "Epoch 18/30\n",
      "704/704 [==============================] - 28s 40ms/step - loss: 0.0657 - accuracy: 0.9810 - val_loss: 0.0669 - val_accuracy: 0.9799\n",
      "Epoch 19/30\n",
      "704/704 [==============================] - 29s 41ms/step - loss: 0.0668 - accuracy: 0.9802 - val_loss: 0.0660 - val_accuracy: 0.9806\n",
      "Epoch 20/30\n",
      "704/704 [==============================] - 34s 48ms/step - loss: 0.0603 - accuracy: 0.9820 - val_loss: 0.0748 - val_accuracy: 0.9777\n",
      "Epoch 21/30\n",
      "704/704 [==============================] - 31s 44ms/step - loss: 0.0623 - accuracy: 0.9809 - val_loss: 0.0683 - val_accuracy: 0.9793\n",
      "Epoch 22/30\n",
      "704/704 [==============================] - 28s 40ms/step - loss: 0.0584 - accuracy: 0.9827 - val_loss: 0.0667 - val_accuracy: 0.9805\n",
      "Epoch 23/30\n",
      "704/704 [==============================] - 28s 40ms/step - loss: 0.0614 - accuracy: 0.9819 - val_loss: 0.0788 - val_accuracy: 0.9776\n",
      "Epoch 24/30\n",
      "704/704 [==============================] - 31s 43ms/step - loss: 0.0545 - accuracy: 0.9835 - val_loss: 0.0746 - val_accuracy: 0.9783\n",
      "Epoch 25/30\n",
      "704/704 [==============================] - 28s 40ms/step - loss: 0.0561 - accuracy: 0.9832 - val_loss: 0.0749 - val_accuracy: 0.9787\n",
      "Epoch 26/30\n",
      "704/704 [==============================] - 39s 55ms/step - loss: 0.0552 - accuracy: 0.9838 - val_loss: 0.0661 - val_accuracy: 0.9803\n",
      "Epoch 27/30\n",
      "704/704 [==============================] - 34s 48ms/step - loss: 0.0584 - accuracy: 0.9834 - val_loss: 0.0659 - val_accuracy: 0.9816\n",
      "Epoch 28/30\n",
      "704/704 [==============================] - 34s 48ms/step - loss: 0.0573 - accuracy: 0.9832 - val_loss: 0.0696 - val_accuracy: 0.9795\n",
      "Epoch 29/30\n",
      "704/704 [==============================] - 33s 47ms/step - loss: 0.0524 - accuracy: 0.9825 - val_loss: 0.0594 - val_accuracy: 0.9844\n",
      "Epoch 30/30\n",
      "704/704 [==============================] - 34s 48ms/step - loss: 0.0547 - accuracy: 0.9832 - val_loss: 0.0640 - val_accuracy: 0.9817\n"
     ]
    }
   ],
   "source": [
    "train_generator = datagen.flow(x_train, y_train, batch_size = 64, subset = 'training')\n",
    "val_generator = datagen.flow(x_train, y_train, batch_size = 64, subset = 'validation')\n",
    "\n",
    "history = model.fit_generator( train_generator,\n",
    "                               epochs = 30,\n",
    "                               verbose = 1,\n",
    "                               validation_data = val_generator\n",
    "                               )\n"
   ]
  },
  {
   "cell_type": "code",
   "execution_count": 6,
   "metadata": {
    "ExecuteTime": {
     "end_time": "2021-02-06T06:44:32.690298Z",
     "start_time": "2021-02-06T06:44:32.167536Z"
    }
   },
   "outputs": [
    {
     "data": {
      "image/png": "[encoded data removed]",
      "text/plain": [
       "<Figure size 432x288 with 2 Axes>"
      ]
     },
     "metadata": {
      "needs_background": "light"
     },
     "output_type": "display_data"
    }
   ],
   "source": [
    "fig = plt.figure()\n",
    "ax1 = fig.add_subplot(1,2,1)\n",
    "ax2 = fig.add_subplot(1,2,2)\n",
    "\n",
    "ax1.plot(history.history['accuracy'])\n",
    "ax1.plot(history.history['val_accuracy'])\n",
    "ax1.set_title('Model Accuracy')\n",
    "ax1.set_ylabel('Accuracy')\n",
    "ax1.set_xlabel('Epoch')\n",
    "ax1.legend(['Train', 'Test'], loc='upper left')\n",
    "\n",
    "ax2.plot(history.history['loss'])\n",
    "ax2.plot(history.history['val_loss'])\n",
    "ax2.set_title('Model Loss')\n",
    "ax2.set_ylabel('Loss')\n",
    "ax2.set_xlabel('Epoch')\n",
    "ax2.legend(['Train', 'Test'], loc='upper left')\n",
    "\n",
    "plt.show()"
   ]
  },
  {
   "cell_type": "code",
   "execution_count": 7,
   "metadata": {
    "ExecuteTime": {
     "end_time": "2021-02-06T06:44:37.700755Z",
     "start_time": "2021-02-06T06:44:35.165524Z"
    }
   },
   "outputs": [
    {
     "name": "stdout",
     "output_type": "stream",
     "text": [
      "313/313 [==============================] - 2s 7ms/step - loss: 0.0296 - accuracy: 0.9906\n",
      "test loss : 0.029625622555613518 / test accuracy : 0.9905999898910522\n"
     ]
    }
   ],
   "source": [
    "loss, accuracy = model.evaluate(x_test, y_test)\n",
    "print(f'test loss : {loss} / test accuracy : {accuracy}')"
   ]
  },
  {
   "cell_type": "code",
   "execution_count": null,
   "metadata": {},
   "outputs": [],
   "source": []
  }
 ],
 "metadata": {
  "kernelspec": {
   "display_name": "Python 3",
   "language": "python",
   "name": "python3"
  },
  "language_info": {
   "codemirror_mode": {
    "name": "ipython",
    "version": 3
   },
   "file_extension": ".py",
   "mimetype": "text/x-python",
   "name": "python",
   "nbconvert_exporter": "python",
   "pygments_lexer": "ipython3",
   "version": "3.8.5"
  },
  "toc": {
   "base_numbering": 1,
   "nav_menu": {},
   "number_sections": true,
   "sideBar": true,
   "skip_h1_title": false,
   "title_cell": "Table of Contents",
   "title_sidebar": "Contents",
   "toc_cell": false,
   "toc_position": {},
   "toc_section_display": true,
   "toc_window_display": false
  },
  "varInspector": {
   "cols": {
    "lenName": 16,
    "lenType": 16,
    "lenVar": 40
   },
   "kernels_config": {
    "python": {
     "delete_cmd_postfix": "",
     "delete_cmd_prefix": "del ",
     "library": "var_list.py",
     "varRefreshCmd": "print(var_dic_list())"
    },
    "r": {
     "delete_cmd_postfix": ") ",
     "delete_cmd_prefix": "rm(",
     "library": "var_list.r",
     "varRefreshCmd": "cat(var_dic_list()) "
    }
   },
   "types_to_exclude": [
    "module",
    "function",
    "builtin_function_or_method",
    "instance",
    "_Feature"
   ],
   "window_display": false
  }
 },
 "nbformat": 4,
 "nbformat_minor": 4
}
