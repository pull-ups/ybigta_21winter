{
 "cells": [
  {
   "cell_type": "code",
   "execution_count": 23,
   "metadata": {
    "ExecuteTime": {
     "end_time": "2021-02-07T15:35:20.420408Z",
     "start_time": "2021-02-07T15:35:20.414424Z"
    }
   },
   "outputs": [],
   "source": [
    "import requests\n",
    "from selenium import webdriver\n",
    "from selenium.webdriver.common.keys import Keys\n",
    "import time\n"
   ]
  },
  {
   "cell_type": "code",
   "execution_count": 24,
   "metadata": {
    "ExecuteTime": {
     "end_time": "2021-02-07T15:35:24.114703Z",
     "start_time": "2021-02-07T15:35:20.840716Z"
    }
   },
   "outputs": [],
   "source": [
    "#path 변수에 자신의 chromedriver가 있는 파일 위치를 할당\n",
    "\n",
    "#window : ~/chromedriver.exe\n",
    "#mac : ~/chromedriver (.exe 빼기) \n",
    "\n",
    "path = 'C:/Users/dlatm/OneDrive/바탕 화면/Jupyter_notebook/YBIGTA session/2021. 2. 2 (화) 크롤링/과제/chromedriver.exe'\n",
    "\n",
    "driver = webdriver.Chrome(path)"
   ]
  },
  {
   "cell_type": "code",
   "execution_count": 25,
   "metadata": {
    "ExecuteTime": {
     "end_time": "2021-02-07T15:35:27.864690Z",
     "start_time": "2021-02-07T15:35:24.169720Z"
    }
   },
   "outputs": [],
   "source": [
    "driver.get('https://search.naver.com/search.naver?where=nexearch&sm=top_hty&fbm=1&ie=utf8&query=%EC%A0%9C%EC%A3%BC%EB%8F%84')\n"
   ]
  },
  {
   "cell_type": "code",
   "execution_count": 59,
   "metadata": {
    "ExecuteTime": {
     "end_time": "2021-02-07T15:52:24.404938Z",
     "start_time": "2021-02-07T15:52:24.252472Z"
    }
   },
   "outputs": [],
   "source": [
    "\n",
    "all_title=[]\n",
    "\n",
    "for i in range(1,5):\n",
    "    i=str(i)\n",
    "    css='#main_pack > section.sc_new.sp_nnews._prs_nws_all > \\\n",
    "    div.api_subject_bx > div.group_news > ul.list_news>li:nth-child(' + i + ') > \\\n",
    "    div.news_wrap.api_ani_send > div.news_area > a' \n",
    "    content = driver.find_element_by_css_selector(css)\n",
    "    all_title.append(content.text)"
   ]
  },
  {
   "cell_type": "code",
   "execution_count": 60,
   "metadata": {
    "ExecuteTime": {
     "end_time": "2021-02-07T15:52:25.999474Z",
     "start_time": "2021-02-07T15:52:25.981523Z"
    }
   },
   "outputs": [
    {
     "data": {
      "text/plain": [
       "['제주도, 오는 8일부터 식당·카페 밤 10시까지 취식 허용',\n",
       " '[스브스夜] \\'정글\\' 고두심, \"요즘 제주도 하면 이효리…나보다 유명\" 병만족 ...',\n",
       " '제주도 서귀포경찰서 소속 경찰관 성매매 혐의 직위해제',\n",
       " '제주도, 299개 저류지 정밀조사.기능개선 용역 착수']"
      ]
     },
     "execution_count": 60,
     "metadata": {},
     "output_type": "execute_result"
    }
   ],
   "source": [
    "all_title"
   ]
  },
  {
   "cell_type": "code",
   "execution_count": null,
   "metadata": {},
   "outputs": [],
   "source": []
  }
 ],
 "metadata": {
  "kernelspec": {
   "display_name": "Python 3",
   "language": "python",
   "name": "python3"
  },
  "language_info": {
   "codemirror_mode": {
    "name": "ipython",
    "version": 3
   },
   "file_extension": ".py",
   "mimetype": "text/x-python",
   "name": "python",
   "nbconvert_exporter": "python",
   "pygments_lexer": "ipython3",
   "version": "3.8.5"
  },
  "toc": {
   "base_numbering": 1,
   "nav_menu": {},
   "number_sections": true,
   "sideBar": true,
   "skip_h1_title": false,
   "title_cell": "Table of Contents",
   "title_sidebar": "Contents",
   "toc_cell": false,
   "toc_position": {},
   "toc_section_display": true,
   "toc_window_display": false
  },
  "varInspector": {
   "cols": {
    "lenName": 16,
    "lenType": 16,
    "lenVar": 40
   },
   "kernels_config": {
    "python": {
     "delete_cmd_postfix": "",
     "delete_cmd_prefix": "del ",
     "library": "var_list.py",
     "varRefreshCmd": "print(var_dic_list())"
    },
    "r": {
     "delete_cmd_postfix": ") ",
     "delete_cmd_prefix": "rm(",
     "library": "var_list.r",
     "varRefreshCmd": "cat(var_dic_list()) "
    }
   },
   "types_to_exclude": [
    "module",
    "function",
    "builtin_function_or_method",
    "instance",
    "_Feature"
   ],
   "window_display": false
  }
 },
 "nbformat": 4,
 "nbformat_minor": 4
}
